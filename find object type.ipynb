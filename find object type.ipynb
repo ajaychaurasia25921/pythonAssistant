{
 "cells": [
  {
   "cell_type": "code",
   "execution_count": 1,
   "metadata": {},
   "outputs": [
    {
     "name": "stdout",
     "output_type": "stream",
     "text": [
      "[7,8,9]\n",
      "Input is : list\n"
     ]
    }
   ],
   "source": [
    "def find(N):\n",
    "    if N[0]== \"[\" and N[-1] == \"]\":\n",
    "        result = \"list\"\n",
    "    elif N[0]== \"{\" and N[-1] == \"}\":\n",
    "        result = \"set\"\n",
    "    elif N[0]== \"(\" and N[-1] == \")\":\n",
    "        result = \"Tuple\"\n",
    "    elif (N[0]== \"'\" and N[-1] == \"'\") or  (N[0]== '\"' and N[-1] == '\"'):\n",
    "        result = \"string\"\n",
    "    elif N == \"True\" or N == \"False\" or N == \"None\":\n",
    "        result = \"boolean\"\n",
    "    else:\n",
    "        try:\n",
    "            int(N)\n",
    "            result = \"integer\"\n",
    "        except ValueError:\n",
    "            try:\n",
    "                float(N)\n",
    "                result = \"Float\"\n",
    "            except ValueError:\n",
    "                result = \"invalid\"\n",
    "    return result\n",
    "N = input()\n",
    "print(\"Input is :\",find(N))\n",
    "\n"
   ]
  },
  {
   "cell_type": "code",
   "execution_count": null,
   "metadata": {},
   "outputs": [],
   "source": []
  }
 ],
 "metadata": {
  "kernelspec": {
   "display_name": "Python 3",
   "language": "python",
   "name": "python3"
  },
  "language_info": {
   "codemirror_mode": {
    "name": "ipython",
    "version": 3
   },
   "file_extension": ".py",
   "mimetype": "text/x-python",
   "name": "python",
   "nbconvert_exporter": "python",
   "pygments_lexer": "ipython3",
   "version": "3.6.4"
  }
 },
 "nbformat": 4,
 "nbformat_minor": 2
}
