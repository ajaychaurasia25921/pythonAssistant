{
 "cells": [
  {
   "cell_type": "code",
   "execution_count": null,
   "metadata": {},
   "outputs": [],
   "source": [
    "stringData = \"abcdefghijklmnopqrstuvwxyzABCDEFGHIJKLMNOPQRSTUVWXYZ\"\n",
    "integerData = \"0123456789\"\n",
    "data = input(\"Enter the data : \")\n",
    "s=0;\n",
    "for d in data:\n",
    "    if d in ('+' or '-') and 'j':\n",
    "        print(\"Complex\")\n",
    "        s=1\n",
    "if data[0] in stringData:\n",
    "    print(\"String\")\n",
    "if data[0] in '[' and data[-1] in ']':\n",
    "    print(\"List\")\n",
    "    s=1\n",
    "elif data in '(' and data[-1] in ')':\n",
    "    print(\"Tuple\")\n",
    "    s=1\n",
    "elif data in '{' and data[-1] in '}':\n",
    "    print(\"Dict\")\n",
    "    s=1\n",
    "elif data[0] != '-':\n",
    "    if data[0] in integerData:\n",
    "        for d in data:\n",
    "            if d in '.':\n",
    "                print(\"float\")\n",
    "                s=1\n",
    "            else:\n",
    "                print(\"Integer\")\n",
    "                s=2    \n",
    "elif data[0] == '-':\n",
    "    if data[1] in integerData:\n",
    "        for d in data:\n",
    "            if d in '.':\n",
    "                print(\"float\")\n",
    "                s=1\n",
    "            elif s!=2:\n",
    "                print(\"Integer\")\n",
    "                s=2\n",
    "else:\n",
    "    print(\"Input Incorrect\")"
   ]
  },
  {
   "cell_type": "code",
   "execution_count": null,
   "metadata": {},
   "outputs": [],
   "source": []
  },
  {
   "cell_type": "code",
   "execution_count": null,
   "metadata": {},
   "outputs": [],
   "source": []
  }
 ],
 "metadata": {
  "kernelspec": {
   "display_name": "Python 3",
   "language": "python",
   "name": "python3"
  },
  "language_info": {
   "codemirror_mode": {
    "name": "ipython",
    "version": 3
   },
   "file_extension": ".py",
   "mimetype": "text/x-python",
   "name": "python",
   "nbconvert_exporter": "python",
   "pygments_lexer": "ipython3",
   "version": "3.7.1"
  }
 },
 "nbformat": 4,
 "nbformat_minor": 2
}
